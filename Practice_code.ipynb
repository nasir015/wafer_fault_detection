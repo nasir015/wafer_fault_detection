{
 "cells": [
  {
   "cell_type": "code",
   "execution_count": 1,
   "metadata": {},
   "outputs": [
    {
     "name": "stdout",
     "output_type": "stream",
     "text": [
      "Log file created.\n",
      "Log entry 1\n",
      "Log entry 2\n",
      "\n"
     ]
    }
   ],
   "source": [
    "import os\n",
    "\n",
    "def create_logger(log_file_path):\n",
    "    # Check if the log file exists, if not, create it\n",
    "    if not os.path.exists(log_file_path):\n",
    "        with open(log_file_path, 'w') as log_file:\n",
    "            log_file.write(\"Log file created.\\n\")\n",
    "\n",
    "    def logger(log_entry):\n",
    "        with open(log_file_path, 'a') as log_file:\n",
    "            log_file.write(log_entry + \"\\n\")\n",
    "\n",
    "    return logger\n",
    "\n",
    "# Example usage:\n",
    "log_file_path = \"my_log.txt\"\n",
    "log = create_logger(log_file_path)\n",
    "\n",
    "# Log some information\n",
    "log(\"Log entry 1\")\n",
    "log(\"Log entry 2\")\n",
    "\n",
    "# You can now open and read the log file\n",
    "with open(log_file_path, 'r') as log_file:\n",
    "    print(log_file.read())\n"
   ]
  }
 ],
 "metadata": {
  "kernelspec": {
   "display_name": "Python 3",
   "language": "python",
   "name": "python3"
  },
  "language_info": {
   "codemirror_mode": {
    "name": "ipython",
    "version": 3
   },
   "file_extension": ".py",
   "mimetype": "text/x-python",
   "name": "python",
   "nbconvert_exporter": "python",
   "pygments_lexer": "ipython3",
   "version": "3.10.7"
  },
  "orig_nbformat": 4
 },
 "nbformat": 4,
 "nbformat_minor": 2
}
